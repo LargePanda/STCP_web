{
 "cells": [
  {
   "cell_type": "code",
   "execution_count": null,
   "metadata": {
    "collapsed": true
   },
   "outputs": [],
   "source": [
    "def change(seq, keys):\n",
    "    for k in keys:\n",
    "        seg.replace(k with processed(k))\n",
    "def processed(w):\n",
    "    ret = \"\"\n",
    "    for c in w:\n",
    "        ret += '<span class=\"name\" style=\"background-color:#00ff00\">'\n",
    "        ret += c\n",
    "        ret += '</span>'\n",
    "    return ret"
   ]
  }
 ],
 "metadata": {
  "kernelspec": {
   "display_name": "Python 2",
   "language": "python",
   "name": "python2"
  },
  "language_info": {
   "codemirror_mode": {
    "name": "ipython",
    "version": 2
   },
   "file_extension": ".py",
   "mimetype": "text/x-python",
   "name": "python",
   "nbconvert_exporter": "python",
   "pygments_lexer": "ipython2",
   "version": "2.7.13"
  }
 },
 "nbformat": 4,
 "nbformat_minor": 2
}
